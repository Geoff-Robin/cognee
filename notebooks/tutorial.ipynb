{
 "cells": [
  {
   "metadata": {},
   "cell_type": "markdown",
   "source": [
    "# Using Cognee with Python Development Data\n",
    "\n",
    "Unite authoritative Python practice (Guido van Rossum's own contributions!), normative guidance (Zen/PEP 8), and your lived context (rules + conversations) into one *AI memory* that produces answers that are relevant, explainable, and consistent."
   ],
   "id": "6f22c8fe6d92cfcc"
  },
  {
   "metadata": {},
   "cell_type": "markdown",
   "source": [
    "## What You'll Learn\n",
    "\n",
    "In this comprehensive tutorial, you'll discover how to transform scattered development data into an intelligent knowledge system that enhances your coding workflow. By the end, you'll have:\n",
    "\n",
    "- **Connected disparate data sources** (Guido's CPython contributions, mypy development, PEP discussions, your Python projects) into a unified AI memory graph\n",
    "- **Built an memory layer** that understands Python design philosophy, best practice coding patterns, and your preferences and experience\n",
    "- **Learn how to use intelligent search capabilities** that combine the diverse context\n",
    "- **Integrated everything with your coding environment** through MCP (Model Context Protocol)\n",
    "\n",
    "This tutorial demonstrates the power of **knowledge graphs** and **retrieval-augmented generation (RAG)** for software development, showing you how to build systems that learn from Python's creator and improve your own Python development."
   ],
   "id": "fe69acbf9ab1a22b"
  },
  {
   "metadata": {},
   "cell_type": "markdown",
   "source": [
    "## Cognee and its core operations\n",
    "\n",
    "Before we dive in, let's understand the core Cognee operations we'll be working with:\n",
    "\n",
    "- **`cognee.add()`** - Ingests raw data (files, text, APIs) into the system\n",
    "- **`cognee.cognify()`** - Processes and structures data into a knowledge graph using AI\n",
    "- **`cognee.search()`** - Queries the knowledge graph with natural language or Cypher\n",
    "- **`cognee.memify()`** - Cognee's \"secret sauce\" that infers implicit connections and rules from your data"
   ],
   "id": "b03b59c064213dd4"
  },
  {
   "metadata": {},
   "cell_type": "markdown",
   "source": [
    "## Data used in this tutorial\n",
    "\n",
    "Cognee can ingest many types of sources. In this tutorial, we use a small, concrete set of files that cover different perspectives:\n",
    "\n",
    "- **`guido_contributions.json` — Authoritative exemplars.** Real PRs and commits from Guido van Rossum (mypy, CPython). These show how Python’s creator solved problems and provide concrete anchors for patterns.\n",
    "- **`pep_style_guide.md` — Norms.** Encodes community style and typing conventions (PEP 8 and related). Ensures that search results and inferred rules align with widely accepted standards.\n",
    "- **`zen_principles.md` — Philosophy.** The Zen of Python. Grounds design trade‑offs (simplicity, explicitness, readability) beyond syntax or mechanics.\n",
    "- **`my_developer_rules.md` — Local constraints.** Your house rules, conventions, and project‑specific requirements (scope, privacy, Spec.md). Keeps recommendations relevant to your actual workflow.\n",
    "- **`copilot_conversations.json` — Personal history.** Transcripts of real assistant conversations, including your questions, code snippets, and discussion topics. Captures “how you code” and connects it to “how Guido codes.”"
   ],
   "id": "6a7669fbb6a3e6c7"
  },
  {
   "metadata": {},
   "cell_type": "markdown",
   "source": [
    "# Prelinimiaries\n",
    "\n",
    "Cognee relies heavily on async functions.\n",
    "We need `nest_asyncio` so `await` works in this notebook."
   ],
   "id": "2a5dac2c6fdc7ca7"
  },
  {
   "metadata": {},
   "cell_type": "code",
   "source": [
    "import nest_asyncio\n",
    "nest_asyncio.apply()"
   ],
   "id": "20cb02b49e3c53e2",
   "outputs": [],
   "execution_count": null
  },
  {
   "metadata": {},
   "cell_type": "markdown",
   "source": "We will do a quick import check.",
   "id": "45e1caaec20c9518"
  },
  {
   "metadata": {},
   "cell_type": "code",
   "source": [
    "import cognee\n",
    "import os\n",
    "from pathlib import Path\n",
    "\n",
    "print('🔍 Quick Cognee Import Check')\n",
    "print('=' * 30)\n",
    "print(f'📍 Cognee location: {cognee.__file__}')\n",
    "print(f'📁 Package directory: {os.path.dirname(cognee.__file__)}')\n",
    "\n",
    "# Check if it's local or installed\n",
    "current_dir = Path.cwd()\n",
    "cognee_path = Path(cognee.__file__)\n",
    "if current_dir in cognee_path.parents:\n",
    "    print('🏠 Status: LOCAL DEVELOPMENT VERSION')\n",
    "else:\n",
    "    print('📦 Status: INSTALLED PACKAGE')"
   ],
   "id": "9386ecb596860399",
   "outputs": [],
   "execution_count": null
  },
  {
   "metadata": {},
   "cell_type": "markdown",
   "source": "And just to be safe, we will make sure that the path contains the root directory, so Python can find everything it needs to run the notebook.",
   "id": "76895c6570d1a4dc"
  },
  {
   "metadata": {},
   "cell_type": "code",
   "source": [
    "import sys\n",
    "from pathlib import Path\n",
    "notebook_dir = Path.cwd()\n",
    "if notebook_dir.name == 'notebooks':\n",
    "    project_root = notebook_dir.parent\n",
    "else:\n",
    "    project_root = Path.cwd()\n",
    "\n",
    "# Add project root to the beginning of sys.path\n",
    "project_root_str = str(project_root.absolute())\n",
    "if project_root_str not in sys.path:\n",
    "    sys.path.insert(0, project_root_str)\n",
    "\n",
    "print(f\"📁 Project root: {project_root_str}\")"
   ],
   "id": "19e74e6b691020db",
   "outputs": [],
   "execution_count": null
  },
  {
   "metadata": {},
   "cell_type": "markdown",
   "source": "Finally, we will begin with a clean slate, by removing any previous Cognee data:",
   "id": "af584b935cbdc8d"
  },
  {
   "metadata": {},
   "cell_type": "code",
   "source": [
    "await cognee.prune.prune_data()\n",
    "await cognee.prune.prune_system(metadata=True)"
   ],
   "id": "dd47383aa9519465",
   "outputs": [],
   "execution_count": null
  },
  {
   "metadata": {},
   "cell_type": "markdown",
   "source": [
    "### Exploring Guido's Python Contributions\n",
    "\n",
    "We'll begin with a document that contains detailed PRs and commits from Guido van Rossum's work on mypy and CPython, showing real-world examples of Python's creator solving type system and language design challenges.\n",
    "\n",
    "We'll use Cognee's `add()` and `cognify()` functions to ingest this data and build a knowledge graph that connects Guido's development patterns with Python best practices."
   ],
   "id": "93c9783037715026"
  },
  {
   "metadata": {},
   "cell_type": "code",
   "source": [
    "import cognee\n",
    "result = await cognee.add(\n",
    "    \"file://data/guido_contributions.json\",\n",
    "    node_set=[\"guido\"]\n",
    ")\n",
    "await cognee.cognify(temporal_cognify=True)\n",
    "results = await cognee.search(\"Show me commits\")"
   ],
   "id": "b8743ed520b4de37",
   "outputs": [],
   "execution_count": null
  },
  {
   "metadata": {},
   "cell_type": "code",
   "source": "print(results[0])",
   "id": "f08b362cbf12b398",
   "outputs": [],
   "execution_count": null
  },
  {
   "metadata": {},
   "cell_type": "markdown",
   "source": [
    "### What's just happened?\n",
    "The `search()` function uses natural language to query a knowledge graph containing Guido's development history.\n",
    "Unlike traditional databases, Cognee understands the relationships between commits, language features, design decisions, and evolution over time.\n",
    "\n",
    "Cognee also allows you to visualize the graphs created:"
   ],
   "id": "10d582d02ead905e"
  },
  {
   "metadata": {},
   "cell_type": "code",
   "source": [
    "from cognee import visualize_graph\n",
    "await visualize_graph('./guido_contributions.html')"
   ],
   "id": "1fb068f422bda6cf",
   "outputs": [],
   "execution_count": null
  },
  {
   "metadata": {},
   "cell_type": "code",
   "source": [
    "from IPython.display import IFrame, HTML, display\n",
    "display(IFrame(\"./guido_contributions.html\", width=\"100%\", height=\"500\"))"
   ],
   "id": "f24341c97d6eaccb",
   "outputs": [],
   "execution_count": null
  },
  {
   "metadata": {},
   "cell_type": "markdown",
   "source": [
    "**Why visualization matters:** Knowledge graphs reveal hidden patterns in data. In this case, patterins in Guido's contributions to Python's development. The interactive visualization shows how different projects (CPython, mypy, PEPs), features, and time periods connect - insights that show Python's thoughtful evolution.\n",
    "\n",
    "Take a moment to explore the graph. Notice how:\n",
    "\n",
    "- CPython core development clusters around 2020\n",
    "- Mypy contributions focus on fixtures and run classes\n",
    "- PEP discussions mention Thomas Grainiger and Adam Turner\n",
    "- Time-based connections show how ideas evolved into features"
   ],
   "id": "3418aa17bf35e3bb"
  },
  {
   "metadata": {},
   "cell_type": "markdown",
   "source": "Now we'll add the remaining data and see how they connections emerge between Guido's contributions, Python best practices, and user conversations.",
   "id": "5e8d9094a09ae05d"
  },
  {
   "metadata": {},
   "cell_type": "code",
   "source": [
    "await cognee.add(\"file://data/copilot_conversations.json\", node_set=[\"developer_data\"])\n",
    "await cognee.add(\"file://data/my_developer_rules.md\", node_set=[\"developer_data\"])\n",
    "await cognee.add(\"file://data/zen_principles.md\", node_set=[\"principles_data\"])\n",
    "await cognee.add(\"file://data/pep_style_guide.md\", node_set=[\"principles_data\"])\n",
    "\n",
    "await cognee.cognify(temporal_cognify=True)"
   ],
   "id": "5315318324968f0f",
   "outputs": [],
   "execution_count": null
  },
  {
   "metadata": {},
   "cell_type": "markdown",
   "source": "",
   "id": "98b9b613d6d11bc5"
  },
  {
   "metadata": {},
   "cell_type": "code",
   "source": [
    "results = await cognee.search(\n",
    "    \"What Python type hinting challenges did I face, and how does Guido approach similar problems in mypy?\",\n",
    "    query_type=cognee.SearchType.GRAPH_COMPLETION\n",
    ")\n",
    "print(results)"
   ],
   "id": "98b69c45db2fca3",
   "outputs": [],
   "execution_count": null
  },
  {
   "metadata": {},
   "cell_type": "markdown",
   "source": [
    "You'll see that cognee has connected your Python development challenges with Guido's approaches, revealing patterns like:\n",
    "\n",
    "- \"Type hint implementation failed due to circular imports - similar to issue Guido solved in mypy PR #1234\"\n",
    "- \"Performance bottleneck in list comprehension matches pattern Guido optimized in CPython commit abc123\""
   ],
   "id": "6c49c4c252036fa1"
  },
  {
   "metadata": {},
   "cell_type": "markdown",
   "source": [
    "Let's now introduce the memory functions. These algorithms run on top of your semantic layer, connecting the dots and improving the search.\n",
    "\n",
    "Memify is customizable and can use any transformation you'd like to write. But it also requires"
   ],
   "id": "a1f4606bfed8fc45"
  },
  {
   "metadata": {},
   "cell_type": "code",
   "source": "await cognee.memify()",
   "id": "20234960f7566b15",
   "outputs": [],
   "execution_count": null
  },
  {
   "metadata": {},
   "cell_type": "markdown",
   "source": [
    "**What `memify()` does for Python:** This advanced function uses AI to:\n",
    "\n",
    "- **Infer rule patterns** from your code (e.g., \"When implementing iterators, always follow the protocol Guido established\")\n",
    "- **Connect design philosophy to practice** (e.g., linking \"explicit is better than implicit\" to your type hinting decisions)\n"
   ],
   "id": "58d3ccec16f67c24"
  },
  {
   "metadata": {},
   "cell_type": "markdown",
   "source": "Now let's see how the system has connected your Python development patterns with established best practices:\n",
   "id": "a304033f9f0f5dcf"
  },
  {
   "metadata": {},
   "cell_type": "code",
   "source": [
    "# Search for connections between your async patterns and Python philosophy\n",
    "results = await cognee.search(\n",
    "    query_text= \"How does my AsyncWebScraper implementation align with Python's design principles?\",\n",
    "    query_type=cognee.SearchType.GRAPH_COMPLETION\n",
    ")\n",
    "print(\"Python Pattern Analysis:\", results)"
   ],
   "id": "518fa9b17a604657",
   "outputs": [],
   "execution_count": null
  },
  {
   "metadata": {},
   "cell_type": "markdown",
   "source": "As we used `temporal_cognify` option for each cognification, we can ask time related questions, for example:",
   "id": "c641b8b7e50dd2ae"
  },
  {
   "metadata": {},
   "cell_type": "code",
   "source": [
    "await cognee.search(\n",
    "    query_text = \"What can we learn from Guido's contributions in 2025?\",\n",
    "    query_type=cognee.SearchType.TEMPORAL\n",
    ")"
   ],
   "id": "28e7d5a75e076b8f",
   "outputs": [],
   "execution_count": null
  },
  {
   "metadata": {},
   "cell_type": "markdown",
   "source": "Hm, maybe we are unhappy with the result and want to give feedback to the system so it doesn't give us a bad answer again",
   "id": "ec6cf074a6c272ab"
  },
  {
   "metadata": {},
   "cell_type": "code",
   "source": "",
   "id": "67dec85a658aad76",
   "outputs": [],
   "execution_count": null
  }
 ],
 "metadata": {
  "kernelspec": {
   "display_name": "Python 3",
   "language": "python",
   "name": "python3"
  },
  "language_info": {
   "codemirror_mode": {
    "name": "ipython",
    "version": 2
   },
   "file_extension": ".py",
   "mimetype": "text/x-python",
   "name": "python",
   "nbconvert_exporter": "python",
   "pygments_lexer": "ipython2",
   "version": "2.7.6"
  }
 },
 "nbformat": 4,
 "nbformat_minor": 5
}
